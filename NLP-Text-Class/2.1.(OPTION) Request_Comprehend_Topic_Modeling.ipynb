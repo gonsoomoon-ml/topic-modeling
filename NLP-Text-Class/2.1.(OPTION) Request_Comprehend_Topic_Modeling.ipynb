{
 "cells": [
  {
   "cell_type": "markdown",
   "metadata": {},
   "source": [
    "# [Module 2.1] 컴프리핸드 토픽 모델링 요청\n",
    "\n",
    "이 노트북은 아래와 같은 작업을 합니다.\n",
    "- 전처리 데이터의 로딩 및 리뷰 컬럼만 추출하여 S3에 업로드\n",
    "    - 토픽 모델링 job 요청시 입력으로 사용 됩니다.\n",
    "- 컴프리핸드에 토픽 모델링 요청\n",
    "- 토픽 모델링 결과 파일 위치 저장"
   ]
  },
  {
   "cell_type": "code",
   "execution_count": 1,
   "metadata": {},
   "outputs": [],
   "source": [
    "import pandas as pd"
   ]
  },
  {
   "cell_type": "code",
   "execution_count": 2,
   "metadata": {},
   "outputs": [],
   "source": [
    "%store -r grocery_negative_path"
   ]
  },
  {
   "cell_type": "markdown",
   "metadata": {},
   "source": [
    "## 전처리 데이터 로딩 및 전처리 컬럼만 S3에 업로드"
   ]
  },
  {
   "cell_type": "code",
   "execution_count": 3,
   "metadata": {},
   "outputs": [],
   "source": [
    "df = pd.read_csv(grocery_negative_path)\n",
    "doc_df = df.review_body_kr_cl"
   ]
  },
  {
   "cell_type": "code",
   "execution_count": 4,
   "metadata": {},
   "outputs": [
    {
     "name": "stdout",
     "output_type": "stream",
     "text": [
      "s3_grocery_negative_path: \n",
      " s3://sagemaker-ap-northeast-2-057716757052/ml-architect/topic/preproc_data/comprehend/amazon_review_grocery_negative.csv\n"
     ]
    }
   ],
   "source": [
    "import sagemaker\n",
    "from utils import upload_s3\n",
    "import os\n",
    "\n",
    "bucket = sagemaker.Session().default_bucket()\n",
    "prefix = 'ml-architect/topic'\n",
    "\n",
    "cp_data_folder = 'preproc_data/comprehend'\n",
    "os.makedirs(cp_data_folder, exist_ok=True)\n",
    "\n",
    "grocery_negative_path = os.path.join(cp_data_folder, 'amazon_review_grocery_negative.csv')\n",
    "doc_df.to_csv(grocery_negative_path, index=None)\n",
    "s3_grocery_negative_path = upload_s3(bucket, grocery_negative_path, prefix)\n",
    "print(\"s3_grocery_negative_path: \\n\", s3_grocery_negative_path)\n",
    "\n"
   ]
  },
  {
   "cell_type": "markdown",
   "metadata": {},
   "source": [
    "## Comprehend에 Topic Modeling 요청\n",
    "- 컴프리핸드에 토픽 모델링 요청을 합니다. \n",
    "- **[중요]** 아래를 실행하기 전에 반드시 SageMaker Execution Role에 ComprehendFullAccess, IAMFullAcess 추가를 해야 합니다. 그렇지 않을 경우에는 에러가 발생 합니다."
   ]
  },
  {
   "cell_type": "code",
   "execution_count": 5,
   "metadata": {},
   "outputs": [],
   "source": [
    "import boto3\n",
    "import boto3\n",
    "import numpy as np\n",
    "import sagemaker\n",
    "\n",
    "bucket = sagemaker.Session().default_bucket()\n",
    "role = 'arn:aws:iam::057716757052:role/service-role/AmazonComprehendServiceRoleS3FullAccess-gsmoon'\n",
    "region_name='ap-northeast-2'\n",
    "\n",
    "# Instantiate Boto3 SDK:\n",
    "client = boto3.client('comprehend', region_name= region_name)\n",
    "\n",
    "\n",
    "def reqest_topic_comprehend(number_of_topics, \n",
    "                        s3_uri,\n",
    "                        s3_output_path,\n",
    "                        job_name,                            \n",
    "                        client):\n",
    "    '''\n",
    "    comprehend에 학습 요청\n",
    "    '''\n",
    "    start_response = client.start_topics_detection_job(\n",
    "        NumberOfTopics = number_of_topics,      \n",
    "        JobName = job_name,\n",
    "        InputDataConfig={\n",
    "            'S3Uri': s3_uri,\n",
    "            'InputFormat': 'ONE_DOC_PER_LINE'\n",
    "        },\n",
    "        OutputDataConfig={\n",
    "            'S3Uri': s3_output_path\n",
    "        },\n",
    "        DataAccessRoleArn= role\n",
    "    )\n",
    "    \n",
    "    return start_response\n",
    "    "
   ]
  },
  {
   "cell_type": "markdown",
   "metadata": {},
   "source": [
    "## Topic Modeling 실행\n",
    "중요 파라미터로서 **number_of_topics 를 넣어주세요.(현재 : 3)**"
   ]
  },
  {
   "cell_type": "code",
   "execution_count": 6,
   "metadata": {},
   "outputs": [
    {
     "name": "stdout",
     "output_type": "stream",
     "text": [
      "s3_cp_topic_output_path: \n",
      " s3://sagemaker-ap-northeast-2-057716757052/ml-architect/comprehend/output\n"
     ]
    }
   ],
   "source": [
    "# 중요: S3 입력 파일 경로\n",
    "# s3_input_uri = s3_negative_path\n",
    "s3_input_uri = s3_grocery_negative_path\n",
    "\n",
    "\n",
    "# S3 결과 파일 저장 경로 및 기타\n",
    "\n",
    "cp_topic_prefix = 'ml-architect/comprehend/output'\n",
    "s3_cp_topic_output_path = \"s3://{}/{}\".format(bucket, cp_topic_prefix)\n",
    "print(\"s3_cp_topic_output_path: \\n\", s3_cp_topic_output_path)\n",
    "\n",
    "import numpy as np\n",
    "suffix = str(np.random.uniform())[4:9]\n",
    "\n",
    "job_name = 'cp_topic_' + suffix\n",
    "#################################\n",
    "number_of_topics = 3\n",
    "#################################\n",
    "cp_topic_response = reqest_topic_comprehend(\n",
    "                        number_of_topics,  # 모델 식별자\n",
    "                        s3_input_uri, # 입력 위치\n",
    "                        s3_cp_topic_output_path, # 출력 위치\n",
    "                        job_name,                        \n",
    "                        client )\n",
    "\n",
    "describe_response = client.describe_topics_detection_job(JobId = cp_topic_response['JobId'])\n"
   ]
  },
  {
   "cell_type": "markdown",
   "metadata": {},
   "source": [
    "## 토픽 모델링 결과 위치 저장\n",
    "컴프리핸드는 토픽 모델링 후에 결과를 S3에 저장 합니다. 이 위치를 저장하여 다음 노트북에서 사용합니다.\n",
    "- **아래의 job_status 가 `SUBMITTED` 가 있으면 기다려야 합니다.**\n",
    "    - **이 시간은 약 30분 소요 됩니다.**\n",
    "    - Comprehend의 콘솔에 가서 확인이 가능합니다.\n",
    "    - 아래 그림에서 Stauts 가 'Completed' 로 되어야 합니다.\n",
    "    - ![2.comprehend-consloe](img/2.comprehend-consloe.png)"
   ]
  },
  {
   "cell_type": "code",
   "execution_count": 14,
   "metadata": {},
   "outputs": [
    {
     "name": "stdout",
     "output_type": "stream",
     "text": [
      "s3_output_path: \n",
      " s3://sagemaker-ap-northeast-2-057716757052/ml-architect/comprehend/output/057716757052-TOPICS-0762f27bf6904bec139d51e52897eb65/output/output.tar.gz\n"
     ]
    },
    {
     "data": {
      "text/plain": [
       "'SUBMITTED'"
      ]
     },
     "execution_count": 14,
     "metadata": {},
     "output_type": "execute_result"
    }
   ],
   "source": [
    "s3_output_path = describe_response['TopicsDetectionJobProperties']['OutputDataConfig']['S3Uri']\n",
    "print(\"s3_output_path: \\n\", s3_output_path)\n",
    "job_status = describe_response['TopicsDetectionJobProperties']['JobStatus']\n",
    "job_status"
   ]
  },
  {
   "cell_type": "markdown",
   "metadata": {},
   "source": [
    "## S3 결과 경로 저장"
   ]
  },
  {
   "cell_type": "code",
   "execution_count": 15,
   "metadata": {},
   "outputs": [
    {
     "name": "stdout",
     "output_type": "stream",
     "text": [
      "Stored 's3_output_path' (str)\n"
     ]
    }
   ],
   "source": [
    "%store s3_output_path"
   ]
  },
  {
   "cell_type": "code",
   "execution_count": null,
   "metadata": {},
   "outputs": [],
   "source": []
  },
  {
   "cell_type": "code",
   "execution_count": null,
   "metadata": {},
   "outputs": [],
   "source": []
  },
  {
   "cell_type": "code",
   "execution_count": null,
   "metadata": {},
   "outputs": [],
   "source": []
  },
  {
   "cell_type": "code",
   "execution_count": null,
   "metadata": {},
   "outputs": [],
   "source": []
  }
 ],
 "metadata": {
  "kernelspec": {
   "display_name": "conda_python3",
   "language": "python",
   "name": "conda_python3"
  },
  "language_info": {
   "codemirror_mode": {
    "name": "ipython",
    "version": 3
   },
   "file_extension": ".py",
   "mimetype": "text/x-python",
   "name": "python",
   "nbconvert_exporter": "python",
   "pygments_lexer": "ipython3",
   "version": "3.6.10"
  }
 },
 "nbformat": 4,
 "nbformat_minor": 4
}
