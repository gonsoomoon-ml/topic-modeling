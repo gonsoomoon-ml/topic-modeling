{
 "cells": [
  {
   "cell_type": "markdown",
   "metadata": {},
   "source": [
    "# [Module 0.0] Option: 아마존 상품 리뷰 데이터 준비\n",
    "\n",
    "**다운로드 받은 Repo에 'preproc_data/translated/full_translated_grocery_22009.csv'\n",
    "파일이 존재하면 이 노트북은 스킵하셔도 됩니다.**\n",
    "\n",
    "적당한 한국어로 상품 리뷰의 데이터를 구하기가 어려워서, Amazon.com의 상품 리뷰를 한글로 번역하여 데이터를 준비 합니다.\n",
    "\n",
    "이 노트북은 아래와 같은 작업을 합니다.\n",
    "- 아마존 리뷰데이타 중에서 Grocery 항목의 파일 1개를 다운로드 합니다.\n",
    "- 리뷰에서 등급 1-2 만을 추출합니다. 1-2를 부정 리뷰로 간주 합니다.\n",
    "    - 22009 의 부정 리뷰를 사용 합니다.\n",
    "- 영어를 한국어로 번역 합니다.\n",
    "- Amazon Translate에 번역을 요청 합니다. (병렬로 4개의 작업이 동시에 번역 요청 합니다.)"
   ]
  },
  {
   "cell_type": "code",
   "execution_count": 1,
   "metadata": {},
   "outputs": [],
   "source": [
    "import pandas as pd"
   ]
  },
  {
   "cell_type": "markdown",
   "metadata": {},
   "source": [
    "## 아마존 리뷰 데이터 셋트 다운로드\n",
    "\n",
    "아래에서 grocery 의 데이터 파일 하나만을 사용했습니다. 다른 카테고리를 사용하시고 싶다면 prefix1, prefix2 주석을 제거하고 사용하세요"
   ]
  },
  {
   "cell_type": "code",
   "execution_count": 2,
   "metadata": {},
   "outputs": [
    {
     "name": "stdout",
     "output_type": "stream",
     "text": [
      "s3://amazon-reviews-pds/tsv/amazon_reviews_us_Grocery_v1_00.tsv.gz is downloaded\n"
     ]
    }
   ],
   "source": [
    "import os, sagemaker\n",
    "\n",
    "def download_amazon_review(basic_folder = 's3://amazon-reviews-pds/tsv', prefix='', down_folder=''):\n",
    "    s3_source_path = os.path.join(basic_folder, prefix)\n",
    "    sagemaker.s3.S3Downloader.download(s3_source_path, down_folder)\n",
    "    print(f'{s3_source_path} is downloaded')\n",
    "\n",
    "\n",
    "amazon_data = 'data'\n",
    "os.makedirs(amazon_data, exist_ok=True)\n",
    "\n",
    "# prefix1 = 'amazon_reviews_us_Apparel_v1_00.tsv.gz'\n",
    "# download_amazon_review(prefix = prefix1, down_folder = amazon_data)\n",
    "# prefix2 = 'amazon_reviews_us_Beauty_v1_00.tsv.gz'\n",
    "# download_amazon_review(prefix = prefix2, down_folder = amazon_data)\n",
    "prefix3 = 'amazon_reviews_us_Grocery_v1_00.tsv.gz'\n",
    "download_amazon_review(prefix = prefix3, down_folder = amazon_data)"
   ]
  },
  {
   "cell_type": "markdown",
   "metadata": {},
   "source": [
    "## 리뷰에서 부정적인 것만 추출\n",
    "점수 등급이 1-5에서 1-2만 추출 합니다. 즉 1-2 를 부정적이라고 간주 합니다."
   ]
  },
  {
   "cell_type": "code",
   "execution_count": 3,
   "metadata": {},
   "outputs": [
    {
     "name": "stdout",
     "output_type": "stream",
     "text": [
      "data set shape:  (22009, 15)\n"
     ]
    }
   ],
   "source": [
    "import csv\n",
    "\n",
    "def get_review_data(data_folder, file_path, nrows=10000):\n",
    "    '''\n",
    "    rating이 1,2 인 것만 제공\n",
    "    '''\n",
    "    file_path = os.path.join(amazon_data, file_path)\n",
    "    df = pd.read_csv(file_path, \n",
    "                     delimiter='\\t', \n",
    "                     nrows= nrows,\n",
    "                     quoting=csv.QUOTE_NONE,\n",
    "                     compression='gzip')\n",
    "    df = df[df.star_rating.isin([1,2])]\n",
    "    print(\"data set shape: \", df.shape)\n",
    "    cols = ['review_id','review_body','product_category','star_rating','review_date' ]\n",
    "    df = df[cols]\n",
    "\n",
    "    return df\n",
    "\n",
    "grocery_df = get_review_data(data_folder = amazon_data, file_path = prefix3, nrows=200000)"
   ]
  },
  {
   "cell_type": "code",
   "execution_count": 4,
   "metadata": {},
   "outputs": [
    {
     "data": {
      "text/html": [
       "<div>\n",
       "<style scoped>\n",
       "    .dataframe tbody tr th:only-of-type {\n",
       "        vertical-align: middle;\n",
       "    }\n",
       "\n",
       "    .dataframe tbody tr th {\n",
       "        vertical-align: top;\n",
       "    }\n",
       "\n",
       "    .dataframe thead th {\n",
       "        text-align: right;\n",
       "    }\n",
       "</style>\n",
       "<table border=\"1\" class=\"dataframe\">\n",
       "  <thead>\n",
       "    <tr style=\"text-align: right;\">\n",
       "      <th></th>\n",
       "      <th>review_id</th>\n",
       "      <th>review_body</th>\n",
       "      <th>product_category</th>\n",
       "      <th>star_rating</th>\n",
       "      <th>review_date</th>\n",
       "    </tr>\n",
       "  </thead>\n",
       "  <tbody>\n",
       "    <tr>\n",
       "      <th>5</th>\n",
       "      <td>RIG9AWFOGRDVO</td>\n",
       "      <td>The popcorn was stale.</td>\n",
       "      <td>Grocery</td>\n",
       "      <td>2</td>\n",
       "      <td>2015-08-31</td>\n",
       "    </tr>\n",
       "    <tr>\n",
       "      <th>9</th>\n",
       "      <td>R1ODXB3C9UP3NL</td>\n",
       "      <td>Used to be a decent product.  Disgusting now a...</td>\n",
       "      <td>Grocery</td>\n",
       "      <td>1</td>\n",
       "      <td>2015-08-31</td>\n",
       "    </tr>\n",
       "    <tr>\n",
       "      <th>17</th>\n",
       "      <td>R3T6TTD2IN0EFZ</td>\n",
       "      <td>I bought this from a local super market on a w...</td>\n",
       "      <td>Grocery</td>\n",
       "      <td>1</td>\n",
       "      <td>2015-08-31</td>\n",
       "    </tr>\n",
       "    <tr>\n",
       "      <th>23</th>\n",
       "      <td>R9MISLBRG08FX</td>\n",
       "      <td>not craze about these. nothing really wrong wi...</td>\n",
       "      <td>Grocery</td>\n",
       "      <td>1</td>\n",
       "      <td>2015-08-31</td>\n",
       "    </tr>\n",
       "    <tr>\n",
       "      <th>40</th>\n",
       "      <td>R1DIYK2UJ1C7FC</td>\n",
       "      <td>This product is beautifully labelled. That's a...</td>\n",
       "      <td>Grocery</td>\n",
       "      <td>1</td>\n",
       "      <td>2015-08-31</td>\n",
       "    </tr>\n",
       "  </tbody>\n",
       "</table>\n",
       "</div>"
      ],
      "text/plain": [
       "         review_id                                        review_body  \\\n",
       "5    RIG9AWFOGRDVO                             The popcorn was stale.   \n",
       "9   R1ODXB3C9UP3NL  Used to be a decent product.  Disgusting now a...   \n",
       "17  R3T6TTD2IN0EFZ  I bought this from a local super market on a w...   \n",
       "23   R9MISLBRG08FX  not craze about these. nothing really wrong wi...   \n",
       "40  R1DIYK2UJ1C7FC  This product is beautifully labelled. That's a...   \n",
       "\n",
       "   product_category  star_rating review_date  \n",
       "5           Grocery            2  2015-08-31  \n",
       "9           Grocery            1  2015-08-31  \n",
       "17          Grocery            1  2015-08-31  \n",
       "23          Grocery            1  2015-08-31  \n",
       "40          Grocery            1  2015-08-31  "
      ]
     },
     "execution_count": 4,
     "metadata": {},
     "output_type": "execute_result"
    }
   ],
   "source": [
    "grocery_df.head()"
   ]
  },
  {
   "cell_type": "markdown",
   "metadata": {},
   "source": [
    "## 영어를 한국어로 번역"
   ]
  },
  {
   "cell_type": "markdown",
   "metadata": {},
   "source": [
    "#### Util 함수"
   ]
  },
  {
   "cell_type": "code",
   "execution_count": 5,
   "metadata": {},
   "outputs": [],
   "source": [
    "import re\n",
    "import numpy as np\n",
    "from multiprocessing import Pool\n",
    "\n",
    "def process_df_parallel(df, func, n_cores=4):\n",
    "    '''\n",
    "    dataframe의 병렬 수행\n",
    "    '''\n",
    "    df_split = np.array_split(df, n_cores)\n",
    "    pool = Pool(n_cores)\n",
    "    df = pd.concat(pool.map(func, df_split))\n",
    "    pool.close()\n",
    "    pool.join()\n",
    "    return df\n",
    "\n",
    "import pandas as pd\n",
    "import boto3\n",
    "\n",
    "translate = boto3.client(service_name='translate', region_name='ap-northeast-2', use_ssl=True)\n",
    "\n",
    "def translate_en_df(df, source_lang='en', target_lang = 'ko', max_length=1000):\n",
    "    '''\n",
    "    review_body를 한국어로 번역함\n",
    "    내부에서 translate_kr 을 호출함\n",
    "    '''\n",
    "\n",
    "    df.insert(1, 'review_body_kr', df.review_body.apply(lambda x: translate_kr(x, source_lang,target_lang, max_length)))\n",
    "    # print(\"review_body translation is done\")\n",
    "        \n",
    "    return df\n",
    "\n",
    "import pandas as pd\n",
    "def translate_kr(text, source_lang='auto', target_lang ='ko',max_length = 1000 ):\n",
    "    '''\n",
    "    text에 소스 랭기지를 타겟 랭기지로 번역\n",
    "    sample = apparel_df.review_body.iloc[0]\n",
    "    translate_kr(sample, source_lang='en', target_lang ='ko',max_length = 1000 )    \n",
    "    '''    \n",
    "    if pd.isnull(text):\n",
    "        return text\n",
    "    \n",
    "    tr_text = None\n",
    "    \n",
    "    # print(\"max_length: \", max_length)\n",
    "    \n",
    "    text = text[0:max_length] # 1000 자로 한정\n",
    "    \n",
    "    try:\n",
    "        result = translate.translate_text(Text=text, \n",
    "                    SourceLanguageCode= source_lang, TargetLanguageCode= target_lang)\n",
    "        tr_text = result.get('TranslatedText')\n",
    "    except Exception as ex:\n",
    "        print(\"Error occured with {}: \".format(text))\n",
    "        print(ex)\n",
    "         \n",
    "    return tr_text"
   ]
  },
  {
   "cell_type": "code",
   "execution_count": 6,
   "metadata": {},
   "outputs": [],
   "source": [
    "from functools import partial\n",
    "# from utils import process_df_parallel, translate_en_df, translate_en\n",
    "\n",
    "def main_translate(clean_df, num_text, n_cores, saved_file_path, max_length):\n",
    "    '''\n",
    "    번역 메인 함수\n",
    "    '''\n",
    "    input_clean_df = clean_df.copy()\n",
    "    input_clean_df = input_clean_df[0:num_text]\n",
    "    print(\"clean_df shape: \", input_clean_df.shape)    \n",
    "    tr_df = process_df_parallel(\n",
    "                            input_clean_df, \n",
    "                            partial(translate_en_df,max_length=max_length),\n",
    "                            n_cores=n_cores\n",
    "                            )       \n",
    "\n",
    "    print(\"Translation is completed\")\n",
    "\n",
    "    tr_df.to_csv(saved_file_path, index=None)\n",
    "    print(\"file: {} is saved\".format(saved_file_path))\n",
    "    \n",
    "    return tr_df"
   ]
  },
  {
   "cell_type": "code",
   "execution_count": 7,
   "metadata": {},
   "outputs": [],
   "source": [
    "import os\n",
    "Category = 'grocery'\n",
    "num_text = grocery_df.shape[0] \n",
    "# num_text = apparel_df.shape[0] \n",
    "# num_text = 10 \n",
    "n_cores = 4\n",
    "\n",
    "preproc_translate_folder = \"preproc_data/translated\"\n",
    "os.makedirs(preproc_translate_folder, exist_ok=True)\n",
    "    \n",
    "full_translated_file_name = f\"full_translated_{Category}_\" + str(num_text) + \".csv\"    \n",
    "full_translated_file_path = os.path.join(preproc_translate_folder, full_translated_file_name)"
   ]
  },
  {
   "cell_type": "markdown",
   "metadata": {},
   "source": [
    "## 번역 실행 및 결과 저장"
   ]
  },
  {
   "cell_type": "code",
   "execution_count": 8,
   "metadata": {},
   "outputs": [
    {
     "name": "stdout",
     "output_type": "stream",
     "text": [
      "clean_df shape:  (22009, 5)\n",
      "Translation is completed\n",
      "file: preproc_data/translated/full_translated_grocery_22009.csv is saved\n",
      "Stored 'full_translated_file_path' (str)\n",
      "CPU times: user 619 ms, sys: 191 ms, total: 810 ms\n",
      "Wall time: 12min 35s\n"
     ]
    }
   ],
   "source": [
    "%%time\n",
    "max_length = 1000\n",
    "full_tr_df = main_translate(grocery_df, num_text, n_cores, full_translated_file_path, max_length)\n",
    "%store full_translated_file_path"
   ]
  },
  {
   "cell_type": "code",
   "execution_count": 9,
   "metadata": {},
   "outputs": [
    {
     "data": {
      "text/plain": [
       "'preproc_data/translated/full_translated_grocery_22009.csv'"
      ]
     },
     "execution_count": 9,
     "metadata": {},
     "output_type": "execute_result"
    }
   ],
   "source": [
    "full_translated_file_path"
   ]
  },
  {
   "cell_type": "code",
   "execution_count": null,
   "metadata": {},
   "outputs": [],
   "source": []
  }
 ],
 "metadata": {
  "kernelspec": {
   "display_name": "conda_python3",
   "language": "python",
   "name": "conda_python3"
  },
  "language_info": {
   "codemirror_mode": {
    "name": "ipython",
    "version": 3
   },
   "file_extension": ".py",
   "mimetype": "text/x-python",
   "name": "python",
   "nbconvert_exporter": "python",
   "pygments_lexer": "ipython3",
   "version": "3.6.10"
  }
 },
 "nbformat": 4,
 "nbformat_minor": 4
}
