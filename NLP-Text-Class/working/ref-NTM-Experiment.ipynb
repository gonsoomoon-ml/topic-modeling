{
 "cells": [
  {
   "cell_type": "markdown",
   "metadata": {},
   "source": [
    "## 한국 경영학회 상품 리뷰 (부정)"
   ]
  },
  {
   "cell_type": "markdown",
   "metadata": {},
   "source": [
    "```\n",
    "[10/07/2020 08:59:56 INFO 139798198212416] Topics from epoch:final (num_topics:5) [, tu 0.34]:\n",
    "[10/07/2020 08:59:56 INFO 139798198212416] 436 796 31 389 90 297 328 520 304 518 718 224 809 543 501 390 785 391 714 772\n",
    "[10/07/2020 08:59:56 INFO 139798198212416] 436 389 796 90 297 772 31 328 518 224 718 426 942 62 726 501 390 502 520 391\n",
    "[10/07/2020 08:59:56 INFO 139798198212416] 436 31 90 718 389 297 502 224 501 328 520 304 518 307 809 16 562 531 390 258\n",
    "[10/07/2020 08:59:56 INFO 139798198212416] 436 90 297 328 31 502 772 578 390 501 543 809 796 531 518 245 520 942 224 973\n",
    "[10/07/2020 08:59:56 INFO 139798198212416] 297 90 772 436 224 390 718 31 328 502 796 388 518 389 62 391 501 531 520 16\n",
    "```\n",
    "![0.kr-neg-5](img/0.kr-neg-5.png)"
   ]
  },
  {
   "cell_type": "markdown",
   "metadata": {},
   "source": [
    "```\n",
    "[10/07/2020 13:05:43 INFO 140412297271104] Topics from epoch:final (num_topics:3) [, tu 0.53]:\n",
    "[10/07/2020 13:05:43 INFO 140412297271104] 436 31 328 297 501 62 90 502 587 732 245 726 197 156 390 809 388 391 785 307\n",
    "[10/07/2020 13:05:43 INFO 140412297271104] 436 328 31 297 502 732 389 244 390 90 718 501 486 391 773 785 16 518 578 726\n",
    "[10/07/2020 13:05:43 INFO 140412297271104] 436 31 328 502 297 501 62 389 543 390 773 809 520 732 224 90 391 245 785 772\n",
    "```\n",
    "![0.kr-neg-3](img/0.kr-neg-3.png)"
   ]
  },
  {
   "cell_type": "markdown",
   "metadata": {},
   "source": [
    "## Amazon Review: Apparel"
   ]
  },
  {
   "cell_type": "markdown",
   "metadata": {},
   "source": [
    "[10/08/2020 04:23:17 INFO 139731701004096] Topics from epoch:final (num_topics:3) [, tu 0.82]:\n",
    "[10/08/2020 04:23:17 INFO 139731701004096] 851 895 934 453 31 343 411 956 34 33 347 5 807 307 803 576 856 933 869 265\n",
    "[10/08/2020 04:23:17 INFO 139731701004096] 957 557 302 409 762 107 866 796 495 845 632 128 763 7 912 379 635 779 892 638\n",
    "[10/08/2020 04:23:17 INFO 139731701004096] 409 912 756 302 957 185 762 638 763 379 845 796 554 725 325 635 306 118 898 423\n",
    "\n",
    "![0.az-app-3](img/0.az-app-3.png)"
   ]
  },
  {
   "cell_type": "markdown",
   "metadata": {},
   "source": [
    "## Amazon Review: Grocery"
   ]
  },
  {
   "cell_type": "markdown",
   "metadata": {},
   "source": [
    "```\n",
    "[10/09/2020 06:06:37 INFO 140556407002944] [0.90, 0.87] keurig 로스트 네스프레소 기계 커피 양조 메이커 포드 에스프레소 호환 작동 찌꺼기 벅스 캡슐 카페인 근거 신경 프랑스 인스턴트 크리머\n",
    "[10/09/2020 06:06:37 INFO 140556407002944] [0.90, 0.87] keurig 부러지다 포드 작동 절반 버라이어티 실망 크래커 버리다 $1 열리다 장소 낭비 가져오다 자로 열다 배달 오늘 기계 이메일\n",
    "[10/09/2020 06:06:37 INFO 140556407002944] [0.82, 0.92] 열리다 손상 만료 박살 keurig 녹다 날짜 2015 깨지다 도착 상자 분쇄 개월 호환 부스러기 부서지다 상태 우편 개별 보호\n",
    "```\n",
    "![0.az-groc3](img/0.az-groc-3.png)"
   ]
  },
  {
   "cell_type": "markdown",
   "metadata": {},
   "source": [
    "```\n",
    "[10/09/2020 06:36:47 INFO 140171955816256] Topics from epoch:final (num_topics:5) [wetc 0.81, tu 0.60]:\n",
    "[10/09/2020 06:36:47 INFO 140171955816256] [0.90, 0.93] keurig 로스트 커피 양조 메이커 기계 포드 네스프레소 작동 에스프레소 호환 벅스 신경 찌꺼기 카페인 쓰다 크리머 캡슐 근거 마시다\n",
    "[10/09/2020 06:36:47 INFO 140171955816256] [0.72, 0.53] 만료 박살 열리다 24 날짜 녹다 절반 도착 쿠키 상자 keurig $10 패키지 개월 선물 주문 깨지다 15 엉망 보내다\n",
    "[10/09/2020 06:36:47 INFO 140171955816256] [0.82, 0.52] 열리다 keurig 우편 작동 2015 녹다 상태 반환 도착 날짜 선물 만료 아이템 상자 환불 분쇄 반품 부러지다 손상 패키지\n",
    "[10/09/2020 06:36:47 INFO 140171955816256] [0.90, 0.54] 만료 열리다 녹다 날짜 깨지다 상자 반환 keurig 손상 도착 유출 달러 절반 쿠키 막대 지불 배달 가방 엉망 부스러기\n",
    "[10/09/2020 06:36:47 INFO 140171955816256] [0.73, 0.48] 깨지다 녹다 열리다 만료 날짜 박살 도착 패키지 배송 상자 가방 2015 12 환불 항목 선물 keurig 절반 밀봉 상태\n",
    "```\n",
    "![0.az-groc-5](img/0.az-groc-5.png)"
   ]
  },
  {
   "cell_type": "markdown",
   "metadata": {},
   "source": [
    "# Reference\n",
    "\n",
    "### 소스 데이터\n",
    "- 감성 분석을 위한 온라인 상품평 데이터\n",
    "    - http://www.drbr.or.kr/datasets/view/?seq=20\n",
    "    - 인용\n",
    "        - 신경식(2019). 연구용 빅데이터 레파지토리 [http://www.drbr.or.kr]. 한국경영학회. \n",
    "Shin, K-s (2019). Data Repository for Business Research [http://www.drbr.or.kr]. The Korean Academic Society of Business Administration.\n",
    "\n",
    "### Comprehend\n",
    "- Comprehend: Creating a Topic Modeling Job Using the Console\n",
    "    - 콘솔로 Topic Modeling Job 만드는 가이드\n",
    "    - https://docs.aws.amazon.com/comprehend/latest/dg/getting-started-console-topics.html\n",
    "- Comprehend: Topic Modeling\n",
    "    - 컴플리핸드 일반적 설명\n",
    "    - https://docs.aws.amazon.com/comprehend/latest/dg/topic-modeling.html\n",
    "\n",
    "### SageMaker NTM\n",
    "- Neural Topic Model (NTM) Algorithm\n",
    "    - 개발자 가이드\n",
    "    - https://docs.aws.amazon.com/sagemaker/latest/dg/ntm.html\n",
    "\n",
    "- Introduction to Basic Functionality of NTM\n",
    "    - 세이지 메이커 기본 노트북 샘플\n",
    "    - https://github.com/aws/amazon-sagemaker-examples/blob/master/introduction_to_amazon_algorithms/ntm_synthetic/ntm_synthetic.ipynb\n",
    "    \n",
    "- Introduction to the Amazon SageMaker Neural Topic Model\n",
    "    - NTM 처음 블로그\n",
    "    - https://aws.amazon.com/ko/blogs/machine-learning/introduction-to-the-amazon-sagemaker-neural-topic-model/\n",
    "            - 노트북 샘플\n",
    "            - https://github.com/aws/amazon-sagemaker-examples/blob/master/introduction_to_applying_machine_learning/ntm_20newsgroups_topic_modeling/ntm_20newsgroups_topic_model.ipynb\n",
    "            \n",
    "            \n",
    "- Amazon SageMaker Neural Topic Model now supports auxiliary vocabulary channel, new topic evaluation metrics, and training subsampling\n",
    "    - https://aws.amazon.com/ko/blogs/machine-learning/amazon-sagemaker-neural-topic-model-now-supports-auxiliary-vocabulary-channel-new-topic-evaluation-metrics-and-training-subsampling/\n",
    "    - Notebook\n",
    "        Amazon SageMaker Neural Topic Model now supports auxiliary vocabulary channel, new topic evaluation metrics, and training subsampling\n",
    "        - https://github.com/aws/amazon-sagemaker-examples/blob/master/scientific_details_of_algorithms/ntm_topic_modeling/ntm_wikitext.ipynb\n",
    "        \n",
    "## NTM Algorithm\n",
    "- AWS Partner Webinar: Neural Topic Modeling on Amazon SageMaker\n",
    "    - https://www.youtube.com/watch?v=eAMjEv7EABM\n",
    "- Understanding Variational Autoencoders (VAEs)\n",
    "    - https://towardsdatascience.com/understanding-variational-autoencoders-vaes-f70510919f73\n",
    "- NTM Paper: Coherence-Aware Neural Topic Modeling\n",
    "    - https://arxiv.org/pdf/1809.02687.pdf\n",
    "\n",
    "        \n",
    "        \n",
    "## 한글\n",
    "- KoNLPy: Korean NLP in Python\n",
    "    - https://konlpy.org/en/latest/\n",
    "- Word cloud in Python\n",
    "    - https://lovit.github.io/nlp/2018/04/17/word_cloud/\n",
    "- 한글 글꼴 다운로드\n",
    "    - https://hangeul.naver.com/2017/nanum"
   ]
  },
  {
   "cell_type": "code",
   "execution_count": null,
   "metadata": {},
   "outputs": [],
   "source": []
  }
 ],
 "metadata": {
  "kernelspec": {
   "display_name": "conda_python3",
   "language": "python",
   "name": "conda_python3"
  },
  "language_info": {
   "codemirror_mode": {
    "name": "ipython",
    "version": 3
   },
   "file_extension": ".py",
   "mimetype": "text/x-python",
   "name": "python",
   "nbconvert_exporter": "python",
   "pygments_lexer": "ipython3",
   "version": "3.6.10"
  }
 },
 "nbformat": 4,
 "nbformat_minor": 4
}
